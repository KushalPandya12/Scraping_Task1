{
 "cells": [
  {
   "cell_type": "code",
   "execution_count": 1,
   "metadata": {},
   "outputs": [],
   "source": [
    "from selenium import webdriver#importing libraries\n",
    "from bs4 import BeautifulSoup"
   ]
  },
  {
   "cell_type": "code",
   "execution_count": 2,
   "metadata": {},
   "outputs": [],
   "source": [
    "driver = webdriver.Chrome()"
   ]
  },
  {
   "cell_type": "code",
   "execution_count": 4,
   "metadata": {},
   "outputs": [],
   "source": [
    "url='https://www.amazon.in/s?bbn=976419031&rh=n%3A976419031%2Cp_89%3Arealme&dc&qid=1624216249&rnid=3837712031&ref=lp_976420031_nr_p_89_3'"
   ]
  },
  {
   "cell_type": "code",
   "execution_count": 5,
   "metadata": {},
   "outputs": [],
   "source": [
    "driver.get(url)"
   ]
  },
  {
   "cell_type": "code",
   "execution_count": 6,
   "metadata": {},
   "outputs": [],
   "source": [
    "soup=BeautifulSoup(driver.page_source,'html.parser')"
   ]
  },
  {
   "cell_type": "code",
   "execution_count": 7,
   "metadata": {},
   "outputs": [],
   "source": [
    "allProductInfo=soup.select('#search > div.s-desktop-width-max.s-desktop-content.s-opposite-dir.sg-row > div.s-matching-dir.sg-col-16-of-20.sg-col.sg-col-8-of-12.sg-col-12-of-16 > div > span:nth-child(4) > div.s-main-slot.s-result-list.s-search-results.sg-row > div')\n"
   ]
  },
  {
   "cell_type": "code",
   "execution_count": 12,
   "metadata": {},
   "outputs": [],
   "source": [
    "import sqlite3"
   ]
  },
  {
   "cell_type": "code",
   "execution_count": 52,
   "metadata": {},
   "outputs": [],
   "source": [
    "conn = sqlite3.connect('Amazon.db')"
   ]
  },
  {
   "cell_type": "code",
   "execution_count": 53,
   "metadata": {},
   "outputs": [],
   "source": [
    "c=conn.cursor()"
   ]
  },
  {
   "cell_type": "code",
   "execution_count": 54,
   "metadata": {},
   "outputs": [
    {
     "data": {
      "text/plain": [
       "<sqlite3.Cursor at 0x1dbc2461030>"
      ]
     },
     "execution_count": 54,
     "metadata": {},
     "output_type": "execute_result"
    }
   ],
   "source": [
    "c.execute('''Create Table ProductInfo(NameOfProduct Text,Rating decimal,PriceOfProduct decimal,Discount decimal)''')"
   ]
  },
  {
   "cell_type": "code",
   "execution_count": 55,
   "metadata": {},
   "outputs": [
    {
     "name": "stdout",
     "output_type": "stream",
     "text": [
      "realme C11 (2021) (Cool Blue, 2GB RAM, 32GB Storage) with No Cost EMI/Additional Exchange Offers\n",
      "4.1 out of 5 stars\n",
      "6,999\n",
      "Save ₹1,000 (13%)\n",
      "realme Buds 2 with Mic for Android Smartphones (Black)\n",
      "4.3 out of 5 stars\n",
      "599\n",
      "Save ₹200 (25%)\n",
      "realme C11 (2021) (Cool Grey, 2GB RAM, 32GB Storage) with No Cost EMI/Additional Exchange Offers\n",
      "4.1 out of 5 stars\n",
      "6,999\n",
      "Save ₹1,000 (13%)\n",
      "realme Buds Wireless 2 Neo (Black) in-Ear Earphones with Type-C Fast Charge | 17-Hour Battery | 11.2mm Bass Boost+ Driver | Bluetooth v5.0 & Magnetic Instant Connection\n",
      "4.0 out of 5 stars\n",
      "1,399\n",
      "Save ₹1,100 (44%)\n",
      "realme Buds Classic Wired Earphones with HD Microphone Black\n",
      "4.1 out of 5 stars\n",
      "399\n",
      "Save ₹300 (43%)\n",
      "realme Buds 2 Neo in-Ear Wired Earphones with HD Mic for Android Smartphones (Blue)\n",
      "4.3 out of 5 stars\n",
      "399\n",
      "Save ₹200 (33%)\n",
      "realme Smart Watch 2 Pro (Space Grey) with 1.75\" HD Super Bright Touchscreen, Dual-Satellite GPS, 14-Day Battery, SpO2 & Heart Rate Monitoring, IP68 Water Resistance\n",
      "4.3 out of 5 stars\n",
      "5,000\n",
      "Save ₹999 (17%)\n",
      "realme Buds Q2 with Active Noise Cancellation (ANC) True Wireless Earbuds (Active Black) | Bluetooth v5.2 | 28-Hour Battery | IPX5 Water Resistant | Bass Boost+\n",
      "3.8 out of 5 stars\n",
      "2,299\n",
      "Save ₹1,200 (34%)\n",
      "Realme narzo 30A (Laser Blue, 3GB RAM, 32GB Storage) with No Cost EMI/Additional Exchange Offers\n",
      "4.3 out of 5 stars\n",
      "8,999\n",
      "Save ₹1,000 (10%)\n",
      "realme Buds 2 Neo in-Ear Wired Earphones with HD Mic for Android Smartphones (Black)\n",
      "4.3 out of 5 stars\n",
      "399\n",
      "Save ₹200 (33%)\n",
      "realme narzo 30 (Racing Sliver, 4GB RAM, 64GB Storage) with No Cost EMI/Additional Exchange Offers\n",
      "3.8 out of 5 stars\n",
      "12,499\n",
      "Save ₹2,500 (17%)\n",
      "realme Buds Wireless 2 Neo (Blue) in-Ear Earphones with Type-C Fast Charge | 17-Hour Battery | 11.2mm Bass Boost+ Driver | Bluetooth v5.0 & Magnetic Instant Connection\n",
      "4.0 out of 5 stars\n",
      "1,399\n",
      "Save ₹1,100 (44%)\n",
      "realme Buds Wireless in-Ear Bluetooth with mic (Yellow)\n",
      "4.1 out of 5 stars\n",
      "1,599\n",
      "Save ₹291 (15%)\n",
      "realme Smart Watch S with 1.3\" TFT-LCD Touchscreen, 15 Days Battery Life, SpO2 & Heart Rate Monitoring, IP68 Water Resistance, Black\n",
      "4.1 out of 5 stars\n",
      "4,999\n",
      "Save ₹3,000 (38%)\n",
      "realme X7 (Space Silver, 6GB RAM, 128GB Storage) with No Cost EMI/Additional Exchange Offers\n",
      "4.1 out of 5 stars\n",
      "18,999\n",
      "Save ₹3,000 (14%)\n",
      "realme 360 Deg 1080p Full HD WiFi Smart Security Camera (White) | Alexa Enabled | 2-Way Audio | Night Vision | Motion Tracking & Intruder Alert, 7.1cm x 6.58cm x 11.43cm (RMH2001)\n",
      "4.1 out of 5 stars\n",
      "2,599\n",
      "Save ₹1,400 (35%)\n",
      "realme Buds Q2 with Active Noise Cancellation (ANC) True Wireless Earbuds (Calm Gray) | Bluetooth v5.2 | 28-Hour Battery | IPX5 Water Resistant | Bass Boost+\n",
      "3.8 out of 5 stars\n",
      "2,299\n",
      "Save ₹1,200 (34%)\n",
      "realme Buds Wireless in-Ear Bluetooth with mic (Green)\n",
      "4.1 out of 5 stars\n",
      "1,599\n",
      "Save ₹400 (20%)\n",
      "realme Buds 2 with Mic for Android Smartphones (Orange)\n",
      "4.3 out of 5 stars\n",
      "598\n",
      "Save ₹52 (8%)\n",
      "realme Buds Wireless Pro with Active Noise Cancellation (ANC) in-Ear Bluetooth Headphones with Mic (Yellow)\n",
      "4.1 out of 5 stars\n",
      "3,949\n",
      "Save ₹2,050 (34%)\n",
      "Realme X7 (Nebula, 6GB RAM, 128GB Storage) with No Cost EMI/Additional Exchange Offers\n",
      "4.1 out of 5 stars\n",
      "18,999\n",
      "Save ₹3,000 (14%)\n",
      "realme narzo 30A (Laser Black, 4GB RAM, 64GB Storage) with No Cost EMI/Additional Exchange Offers\n",
      "4.3 out of 5 stars\n"
     ]
    },
    {
     "ename": "IndexError",
     "evalue": "list index out of range",
     "output_type": "error",
     "traceback": [
      "\u001b[1;31m---------------------------------------------------------------------------\u001b[0m",
      "\u001b[1;31mIndexError\u001b[0m                                Traceback (most recent call last)",
      "\u001b[1;32m<ipython-input-55-53abfd3d9184>\u001b[0m in \u001b[0;36m<module>\u001b[1;34m\u001b[0m\n\u001b[0;32m     10\u001b[0m \u001b[1;33m\u001b[0m\u001b[0m\n\u001b[0;32m     11\u001b[0m     \u001b[0mpriceOfProduct\u001b[0m\u001b[1;33m=\u001b[0m\u001b[0mdata\u001b[0m\u001b[1;33m.\u001b[0m\u001b[0mselect\u001b[0m\u001b[1;33m(\u001b[0m\u001b[1;34m'#search > div.s-desktop-width-max.s-desktop-content.s-opposite-dir.sg-row > div.s-matching-dir.sg-col-16-of-20.sg-col.sg-col-8-of-12.sg-col-12-of-16 > div > span > div.s-main-slot.s-result-list.s-search-results.sg-row > div > div > span > div > div > div > div > div.a-row.a-size-base.a-color-base > a > span > span > span.a-price-whole'\u001b[0m\u001b[1;33m)\u001b[0m\u001b[1;33m\u001b[0m\u001b[1;33m\u001b[0m\u001b[0m\n\u001b[1;32m---> 12\u001b[1;33m     \u001b[0mpriceOfProduct\u001b[0m\u001b[1;33m=\u001b[0m\u001b[0mpriceOfProduct\u001b[0m\u001b[1;33m[\u001b[0m\u001b[1;36m0\u001b[0m\u001b[1;33m]\u001b[0m\u001b[1;33m.\u001b[0m\u001b[0mtext\u001b[0m\u001b[1;33m\u001b[0m\u001b[1;33m\u001b[0m\u001b[0m\n\u001b[0m\u001b[0;32m     13\u001b[0m     \u001b[0mprint\u001b[0m\u001b[1;33m(\u001b[0m\u001b[0mpriceOfProduct\u001b[0m\u001b[1;33m)\u001b[0m\u001b[1;33m\u001b[0m\u001b[1;33m\u001b[0m\u001b[0m\n\u001b[0;32m     14\u001b[0m \u001b[1;33m\u001b[0m\u001b[0m\n",
      "\u001b[1;31mIndexError\u001b[0m: list index out of range"
     ]
    }
   ],
   "source": [
    "for data in allProductInfo:\n",
    "    \n",
    "    nameOfProduct=data.select('#search > div.s-desktop-width-max.s-desktop-content.s-opposite-dir.sg-row > div.s-matching-dir.sg-col-16-of-20.sg-col.sg-col-8-of-12.sg-col-12-of-16 > div > span:nth-child(4) > div.s-main-slot.s-result-list.s-search-results.sg-row > div > div > span > div > div > div > div > h2 > a > span')\n",
    "    nameOfProduct= nameOfProduct[0].text\n",
    "    print(nameOfProduct)\n",
    "    \n",
    "    ratingOfProduct=data.select('span span span span span')\n",
    "    ratingOfProduct= ratingOfProduct[0].text\n",
    "    print(ratingOfProduct)\n",
    "    \n",
    "    priceOfProduct=data.select('#search > div.s-desktop-width-max.s-desktop-content.s-opposite-dir.sg-row > div.s-matching-dir.sg-col-16-of-20.sg-col.sg-col-8-of-12.sg-col-12-of-16 > div > span > div.s-main-slot.s-result-list.s-search-results.sg-row > div > div > span > div > div > div > div > div.a-row.a-size-base.a-color-base > a > span > span > span.a-price-whole')\n",
    "    priceOfProduct=priceOfProduct[0].text\n",
    "    print(priceOfProduct)\n",
    "    \n",
    "    discountOfProduct=data.select('#search > div.s-desktop-width-max.s-desktop-content.s-opposite-dir.sg-row > div.s-matching-dir.sg-col-16-of-20.sg-col.sg-col-8-of-12.sg-col-12-of-16 > div > span > div.s-main-slot.s-result-list.s-search-results.sg-row > div > div > span > div > div > div > div > div.a-row.a-size-base.a-color-base > span')\n",
    "    discountOfProduct=discountOfProduct[1].text\n",
    "    print(discountOfProduct)\n",
    "    \n",
    "    \n",
    "    c.execute('''Insert Into ProductInfo VALUES(?,?,?,?)''',(nameOfProduct,ratingOfProduct,priceOfProduct,discountOfProduct)) #inserting data into sqllite database\n",
    "    conn.commit()\n",
    "\n",
    "    \n",
    "#getting all the data"
   ]
  },
  {
   "cell_type": "code",
   "execution_count": 51,
   "metadata": {},
   "outputs": [],
   "source": [
    "conn.close()"
   ]
  },
  {
   "cell_type": "code",
   "execution_count": null,
   "metadata": {},
   "outputs": [],
   "source": []
  }
 ],
 "metadata": {
  "kernelspec": {
   "display_name": "Python 3",
   "language": "python",
   "name": "python3"
  },
  "language_info": {
   "codemirror_mode": {
    "name": "ipython",
    "version": 3
   },
   "file_extension": ".py",
   "mimetype": "text/x-python",
   "name": "python",
   "nbconvert_exporter": "python",
   "pygments_lexer": "ipython3",
   "version": "3.8.3"
  }
 },
 "nbformat": 4,
 "nbformat_minor": 4
}
